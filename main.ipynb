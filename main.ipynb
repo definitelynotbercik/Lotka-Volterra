{
 "cells": [
  {
   "attachments": {},
   "cell_type": "markdown",
   "metadata": {},
   "source": [
    "<h1><center>Równanie Lotki-Volterry do opisu zależności w ekosystemie. Model drapieżnik-ofiara</center></h1>"
   ]
  },
  {
   "attachments": {},
   "cell_type": "markdown",
   "metadata": {},
   "source": [
    "# Spis treści:\n",
    "### 1. [Wstęp](#1)\n",
    "### 2. [Model - część teoretyczna](#2)\n",
    "   * ##### [Historia modelu](#2_1)\n",
    "   * ##### [Opis modelu](#2_2)\n",
    "   * ##### [Próba rozwiązania](#2_3)\n",
    "### 3. [Model w Pythonie - część praktyczna](#3)\n",
    "   * ##### [Rozwiązanie numeryczne za pomocą metody Eulera](#3_1)\n",
    "### 4. [Modyfikacje modelu podstawowego](#4)\n",
    "### 5. [Analiza symulacji](#5)\n",
    "### 6. [Wyniki i wnioski](#6)\n",
    "### 7. [Zakończenie](#7)\n",
    "\n"
   ]
  },
  {
   "attachments": {},
   "cell_type": "markdown",
   "metadata": {},
   "source": [
    "# Wstęp <a id=\"1\"></a>"
   ]
  },
  {
   "attachments": {},
   "cell_type": "markdown",
   "metadata": {},
   "source": [
    "#### ... bo czym byłaby udana podróż bez punktu startowego"
   ]
  },
  {
   "attachments": {},
   "cell_type": "markdown",
   "metadata": {},
   "source": [
    "##### Witamy w naszej podróży po *groźnie brzmiącym* świecie modelu drapieżnik-ofiara, czyli Lotki-Volterry. Postaramy się jednak, aby była ona raczej poszczerzeniem horyzontów, aniżeli drogą przez mękę. Zacznijmy od określenia punktu A wejścia i B wyjścia - motywacji i celów: \n",
    "\n",
    "### Motywacja:\n",
    "\n",
    "* czlowiek jako istota pełna antagonizmów poprzez poznanie skrajności może dojść do fundamentalnych konkluzji, a przez kulturę przewija się od zawsze motyw walki dobra ze złem, dlatego uznaliśmy, że jest to temat warty zgłębienia,\n",
    "\n",
    "* na 1 roku na projekcie z Pakietów matematycznych braliśmy pod lupę model rozwoju agresji w społeczeństwie z elementami teorii gier, dlatego uznaliśmy, że warto pociągnąć ten informatyczny temat w kontekście matematycznym,\n",
    "\n",
    "* w globalnym kontekście uważamy, że jest to realny problem który można przestudiować, co może podnieść naszą świadomość w sprawie utrzymania niektórych ekosystemów.\n",
    "\n",
    "### Cele:\n",
    "* zapoznanie się z modelem Lotki-Volterry i implementacja w wraunkach programistycznych, \n",
    "\n",
    "* „udziwnienie” modelu (poprzez jego „unormalnienie”), czyli wprowadzenie dodatkowych zmiennych upodabniających model do świata realnego,\n",
    "\n",
    "* przeprowadzenie symulacji oraz ich analiza,\n",
    "\n",
    "* wyciągnięcie wniosków oraz porównanie wyników z wynikami symulacji rozwoju agresji z wyżej wspomniangeo projektu,\n",
    "\n",
    "* zadanie dodatkowych pytań i próba odpowiedzi na nie (np. co byłoby kluczowe, aby taka symulacja odzwierciedlała w pełni rzeczywistość, co by nam dał eksperyment, tutaj jeszcze jedno krótkie pytanie itp.)\n",
    "\n",
    "##### Mapę po naszym projekcie można znaleźć na samej górze. A skoro już wiemy skąd wychodzimy i dokąd zmierzamy, to jako że droga jest w każdej podróży najważniejsza, właśnie do niej przejdźmy.\n"
   ]
  },
  {
   "attachments": {},
   "cell_type": "markdown",
   "metadata": {},
   "source": [
    "***"
   ]
  },
  {
   "attachments": {},
   "cell_type": "markdown",
   "metadata": {},
   "source": [
    "# Model - część teoretyczna <a id=\"2\"></a>"
   ]
  },
  {
   "attachments": {},
   "cell_type": "markdown",
   "metadata": {},
   "source": [
    "#### ...czyli o dwóch takich, co wpadli na to samo"
   ]
  },
  {
   "attachments": {},
   "cell_type": "markdown",
   "metadata": {},
   "source": [
    "### Historia modelu <a id=\"2_1\"></a>"
   ]
  },
  {
   "attachments": {},
   "cell_type": "markdown",
   "metadata": {},
   "source": [
    "Zależności na linii drapieżnik-ofiara obserwuje się w przyrodzie od zawsze. Jest to konsekwencją przyjmowania różnych strategii na drodze do osiągnięcia zamierzonego celu. W interakcjach między orgzanizmami w ekosystemie tym celem jest najczęściej przeżycie. Takie zależności występowały między jednokomórkowcami, występowały między dinozaurami, występują do dnia dzisiejszego w świecie roślin i zwierząt. Tak głęboko zakorzeniony problem musiał być w końcu wzięty pod lupę. I został. Na początku XX wieku.\n",
    "\n",
    "W 1910 roku amerykański matematyk Alfred James Lotka publikuje teorię o autokatalitycznych reakcjach chemicznych. Sam Lotka, pasjonat chemii fizycznej, chce przenieść swoją wiedzę na obszar biologii i rozwinąć dziedzinę biologii fizycznej, gdyż obiema sferami rządzą analogiczne podstawowe prawa. Jego praca zostaje zauważona w latach 20., a matematykowi zostają umożliwione dalsze badania. W tych z 1925 roku dochodzi do modelu, w którym interakcja w środowisku między drapieżnikiem a ofiarą przyjmuje postać nietłumionej, ciągłęj oscylacji dwóch skrajnych gatunków.\n",
    "\n",
    "W tym samym roku włoski matematyk Vito Volterra, niezależnie od Alfreda Lotki, podejmuje się analizy problemu rybaków na Morzu Adriatyckim. Wyławianych jest więcej ryb drapieżnych w okresie po 1. wojnie światowej, choć pozornie wszystkie populacje ryb powinny ucierpieć w wyniku konfliktu. Jak wyjasniał później Volterra, było to spowodowane zaprzestaniem połowu w tym okresie, a w takim wypadku populacja drapieżników wróciła do „normy\". W 1926 roku opublikował pracę opierającą się na modelu populacyjnym, z podobną oscylacją opisaną przez Lotkę. \n",
    "\n",
    "Równania opisujące interakcje drapieżnik-ofiara zostały w późniejszym czasie nazwane **Modelem Lotki-Volterrego**, który stanowi podstawę dalszych badań w zakresie ekologii matematycznych populacji (*mathematical population ecology*) i jest kamieniem milowym w tej dziedzinie."
   ]
  },
  {
   "attachments": {},
   "cell_type": "markdown",
   "metadata": {},
   "source": [
    "***"
   ]
  },
  {
   "attachments": {},
   "cell_type": "markdown",
   "metadata": {},
   "source": [
    "### Opis modelu <a id=\"2_2\"></a>"
   ]
  },
  {
   "attachments": {},
   "cell_type": "markdown",
   "metadata": {},
   "source": [
    "Wprowadźmy teraz równania modelu Lotki-Volterry. Zakładamy, że w ekosystemie występują 2 gatunki: ofiary oraz drapieżniki. Dla prostoty przyjmijmy za nie odpowiednio przedstawicieli zająców (oznaczenie $R$, z ang. *rabbit*) oraz lisów (oznaczenie $F$, z ang. *fox*). Układ równań różniczkowych dynamiki zmiany w populacjach wygląda następująco:\n",
    "\n",
    "\\begin{equation}\n",
    "    \\begin{split}\n",
    "        \\frac{\\mathbb{d}R}{\\mathbb{d}t}&= cR - aRF \\\\[1 em]\n",
    "        \\frac{\\mathbb{d}F}{\\mathbb{d}t}&= -dF + abRF\n",
    "    \\end{split}\n",
    "\\end{equation}\n",
    "\n",
    "gdzie poszczególne składniki oznaczają:\n",
    "\n",
    "* lewe strony równań odzwierciedlać mają opis zmiany liczebności populacji ofiar w jednostce czasu,\n",
    "\n",
    "* $cR$ i $-dF$ opisują dynamikę wewnątrzgatunkową zająców oraz lisów (reprezentowanych przez $R$ i $F$), natomiast $c$ i $d$ są odpowiednio współczynnikami rozrodzczości ofiar oraz śmierci drapieżników,\n",
    "\n",
    "* wyrażenia z członem $RF$ opisują zależność międzygatunkową - razem ze współczynnikiem $a$, oznaczającym rozrodczość drapieżników przy okazji udanych łowów, ukazują, do ilu spotkań w zająca i lisa w danym momencie symulacji doszło na podstawie losowego ich poruszania się po jakimś terenie,\n",
    "\n",
    "* dodatkowy współczynnik $b$ w równaniu drugim reprezentuje ubytek energetyczny, do którego dochodzi w wypadku rozmnożenia lisów przy okazji udanych łowów.\n",
    "\n",
    "Jeśli chodzi o opis zachowania samego modelu można to wysnuć mając same równania. \n",
    "* ofiary pod nieobecność drapieżników nie mają żadnych zagrożeń i mogą się swobodnie rozmnażać (właściwie, w modelu Lotki-Volterry opisanym, ich rozmnażanie przyjmuje maltuzjański model wzrostu populacji, tzn. zające rozmnażają się bez ograniczeń),\n",
    "\n",
    "* jednakże jeśli w takim środowisku pojawi się gatunek drapieżnika, wykorzysta on warunki i będzie żerować na rozrośniętej populacji zajęcy (stąd ujemny znak przy $RF$ w równaniu dla $R$- populacja zajęcy się zmniejsza w spotkaniach, a w równaniu dla $F$ dodatni- ich populacja się zwiększa),\n",
    "\n",
    "* nie da się jednak ukryć, że lisy nie będą w stanie funkcjonować nie mając pożywienia, do czego doprowadzić mogą nadmierne łowy i śmierć zajęcy, stąd śmierć głodowa lisów reprezentowana przez ujemnny znak przy wyrażeniu $dF$, a sytuacji tej nie omieszkają nie wykorzystać zające, które w tym czasie odbudowują swoją populację i wracamy do punktu wyjścia."
   ]
  },
  {
   "attachments": {},
   "cell_type": "markdown",
   "metadata": {},
   "source": [
    "### Próba rozwiązania <a id=\"2_3\"></a>"
   ]
  },
  {
   "attachments": {},
   "cell_type": "markdown",
   "metadata": {},
   "source": [
    "Postaramy się teraz wyznaczyć analitycznie postać ogólną rozwiązania dla punktów krytycznych poprzez analizę asymptotyki rozwiązań układu $(1)$. Przepiszmy nasze równania jeszcze raz\n",
    "\n",
    "\\begin{equation*}\n",
    "    \\begin{split}\n",
    "        \\frac{\\mathbb{d}R}{\\mathbb{d}t}&= cR - aRF \\\\[1 em]\n",
    "        \\frac{\\mathbb{d}F}{\\mathbb{d}t}&= -dF + abRF .\n",
    "    \\end{split}\n",
    "\\end{equation*}\n",
    "\n",
    "Jako że w przypadku stanów stacjonarnych pochodne mają być równe 0, możemy nasze równania zapisać w następującej formie\n",
    "\n",
    "\\begin{equation*}\n",
    "    \\begin{split}\n",
    "        R(c - aF)&= 0 \\\\[1 em]\n",
    "        F(abR-d)&= 0 .\n",
    "    \\end{split}\n",
    "\\end{equation*}\n",
    "\n",
    "Łatwo wywnioskować, że punktami krytycznymi są $(0,0)$ oraz $(\\frac{d}{ab},\\frac{c}{a})$. Stabliność obu z nich można wyznaczyć wykonując linearyzację macierzą Jacobiego, która ma postać\n",
    "\n",
    "$$J(R,F) = \\begin{pmatrix} f_{R} & f_{F} \\\\ g_{R} & g_{F} \\end{pmatrix} = \n",
    "\\begin{pmatrix} c - aF & -aR \\\\ abF & abR-d \\end{pmatrix} .$$\n",
    "\n",
    "Macierz Jacobiego dla punktu $(0,0)$ wygląda tak\n",
    "\n",
    "$$J(0,0) = \\begin{pmatrix} c & 0 \\\\ 0 & -d \\end{pmatrix} .$$\n",
    "\n",
    "W naszym modelu współczynniki $c$ i $d$ są dodatnie, więc jest to punkt siodłowy, a wektory własne Jakobianu to $\\begin{pmatrix} 1 \\\\ 0 \\end{pmatrix}$ i $\\begin{pmatrix} 0 \\\\ 1 \\end{pmatrix}$ (dla wartości własnych macierzy Jacobiego $c$ i -$d$). Zatem to rozwiązanie ogólne to\n",
    "\n",
    "$$C_1 \\begin{pmatrix} 1 \\\\ 0 \\end{pmatrix} e^{ct} + C_2 \\begin{pmatrix} 0 \\\\ 1 \\end{pmatrix} e^{-dt}$$\n",
    "\n",
    "Jednkaże, nie jest to stabilny punkt, a gdyby był stabilny, to, jako że populacje by do tego punktu „zmierzały\", przy odpowiednich warunkach cały ekosystem dążyłby do wymarcia.<br>\n",
    "\n",
    "Weźmy teraz drugi punkt krytyczny $\\biggl(\\cfrac{d}{ab},\\cfrac{c}{a}\\biggr)$. Macierz Jacobiego dla niego ma postać\n",
    "\n",
    "$$J= \\left(\\frac{d}{ab},\\frac{c}{a}\\right) = \\begin{pmatrix} 0 & \\frac{\\text{-}ad}{ab} \\\\ \\frac{cab}{a} & 0 \\end{pmatrix} = \\begin{pmatrix} 0 & \\frac{\\text{-}d}{b} \\\\ cb & 0 \\end{pmatrix} .$$\n",
    "\n",
    "Wartości własne tej macierzy są równe $\\pm i\\sqrt{cd}$, a zatem są one „czysto\" urojone, a stąd, że ślad macierzy jest równy 0, natomiast wyznacznik dodatni, wynika, że nasze rozwiązanie będzie miało tzw. środek (nie jest on ani stabilny, ani niestabilny), w którego otoczeniu będzie się odbywać okresowy ruch trajektorii. Oznacza to, że system samoistnie w pewnym okresie przeżywa okresy rozmnażania i umierania obu gatunków.<br>\n",
    "\n",
    "Rozwiązanie ogólne dla tego przypadku urojonego będzie przyjmowało postać <br>\n",
    "<br>\n",
    "$$ A\\cos{(\\sqrt{cd}t)} + B\\sin{(\\sqrt{cd}t)} .$$\n",
    "<br>\n",
    "Aby zobaczyć ową okresowość ruchu trajektorii, wracamy do równań z samego początku. Ich pochodna po czasie musi być równa 0. Możemy je najpierw pomnożyć odpowiednio razy $ab$ i $a$. Otrzymujemy\n",
    " \n",
    " \\begin{equation*}\n",
    "    \\begin{split}\n",
    "        ab\\frac{\\mathbb{d}R}{\\mathbb{d}t}&= abcR - a^{2}bRF \\\\[1 em]\n",
    "        a\\frac{\\mathbb{d}F}{\\mathbb{d}t}&= -adF + a^{2}bRF\n",
    "    \\end{split}\n",
    "\\end{equation*}\n",
    "\n",
    "Pozbywamy się członu z $RF$ i zapisujemy\n",
    "\n",
    "$$ ab\\cdot\\frac{\\mathbb{d}R}{\\mathbb{d}t} + a\\cdot\\frac{\\mathbb{d}F}{\\mathbb{d}t} = abcR -adF $$ \n",
    "\n",
    "Użyjemy teraz małej sztuczki, która polegać będzie na przedstawieniu pochodnych od logarytmów $R$ i $F$. Można to zapisać jako\n",
    "\n",
    "\\begin{equation*}\n",
    "    \\begin{split}\n",
    "        \\frac{\\mathbb{d}}{\\mathbb{d}t}(\\ln{R})&= \n",
    "        \\frac{1}{R}\\frac{\\mathbb{d}R}{\\mathbb{d}t}(\\ln{R}) = c - aF \\\\[1 em]\n",
    "        \\frac{\\mathbb{d}}{\\mathbb{d}t}(\\ln{F})&= \n",
    "        \\frac{1}{F}\\frac{\\mathbb{d}F}{\\mathbb{d}t}(\\ln{F}) =  -d +abR ,\n",
    "    \\end{split}\n",
    "\\end{equation*}\n",
    "\n",
    "co daje nam tylko liniowe i stałe wyrażenia. Jeśli teraz pomnożymy te równania, aby stałe wyrażenia się skróciły, otrzymujemy \n",
    "\n",
    "$$ d\\cdot\\frac{\\mathbb{d}}{\\mathbb{d}t}(\\ln{R}) + c\\cdot\\frac{\\mathbb{d}}{\\mathbb{d}t}(\\ln{F}) = abcR - adF .$$\n",
    "\n",
    "Widać podobieństwo z członem u góry? Zatem odejmujemy od niego to, co nam wyszło tutaj i mamy\n",
    "\n",
    "$$ ab\\cdot\\frac{\\mathbb{d}R}{\\mathbb{d}t} + a\\cdot\\frac{\\mathbb{d}F}{\\mathbb{d}t} - d\\cdot\\frac{\\mathbb{d}}{\\mathbb{d}t}(\\ln{R}) - c\\cdot\\frac{\\mathbb{d}}{\\mathbb{d}t}(\\ln{F}) = 0,$$\n",
    "\n",
    "a całkując obustronnie ostatecznie dostajemy \n",
    "\n",
    "$$ abR + aF - d\\ln{R} - c\\ln{F} = C ,$$\n",
    "\n",
    "gdzie $C$ jest pewną stałą całkowania. Jednak ta stała udowadnia nam, że trajektoria pozostaje niezmienną, okresową, zamkniętą krzywą dla odpowiednio zdefiniowanych współczynników $a$, $b$, $c$, $d$. To pozwala później zdefiniować zbiór takich krzywych, których rozwiązania krążą wokół naszego punktu krytycznego."
   ]
  },
  {
   "attachments": {},
   "cell_type": "markdown",
   "metadata": {},
   "source": [
    "***"
   ]
  },
  {
   "attachments": {},
   "cell_type": "markdown",
   "metadata": {},
   "source": [
    "# Model w Pythonie - część praktyczna <a id=\"3\"></a>"
   ]
  },
  {
   "attachments": {},
   "cell_type": "markdown",
   "metadata": {},
   "source": [
    "### Rozwiązanie numeryczne za pomocą metody Eulera <a id=\"3_1\"></a>"
   ]
  },
  {
   "attachments": {},
   "cell_type": "markdown",
   "metadata": {},
   "source": [
    "Aby rozwiązać nasze równanie numerycznie, zmieńmy nieco sposób, w jaki na nie patrzymy. \n",
    "\n",
    "\\begin{align}\n",
    "    \\frac{\\mathbb{d}x}{\\mathbb{d}t}&=a \\,x-b \\,xy &&&&& \\frac{\\Delta x}{\\Delta t}&=a \\,x-b \\,xy \\\\[2 em]\n",
    "     \\frac{\\mathbb{d}y}{\\mathbb{d}t} &=d \\,xy-c\\,y &&&&& \\frac{\\Delta y}{\\Delta t}&=d \\,xy-c\\,y\n",
    "\\end{align}\n",
    "\n",
    "Stosując taki zapis chcemy podkreślić, że aby rozwiązać układ numerycznie, będziemy wielokrotnie wyliczać jego wartości dla dyskretnych czasów.\n",
    "\n",
    "Następnie wymnażamy obie strony równania przez $\\Delta{t}$,\n",
    "\n",
    "\\begin{equation*}\n",
    "    \\begin{split}\n",
    "        \\Delta x&=(a \\,x-b \\,xy) \\Delta t \\\\[4pt]\n",
    "        \\Delta y&=(d \\,xy-c\\,y) \\Delta t \n",
    "    \\end{split}\n",
    "\\end{equation*}\n",
    "\n",
    "co pozwoli nam przystąpić do implementacji funkcji w Pythonie."
   ]
  },
  {
   "cell_type": "code",
   "execution_count": 1,
   "metadata": {},
   "outputs": [
    {
     "ename": "ArgumentError",
     "evalue": "ArgumentError: Package numpy not found in current path.\n- Run `import Pkg; Pkg.add(\"numpy\")` to install the numpy package.",
     "output_type": "error",
     "traceback": [
      "ArgumentError: Package numpy not found in current path.\n",
      "- Run `import Pkg; Pkg.add(\"numpy\")` to install the numpy package.\n",
      "\n",
      "Stacktrace:\n",
      "  [1] macro expansion\n",
      "    @ ./loading.jl:1163 [inlined]\n",
      "  [2] macro expansion\n",
      "    @ ./lock.jl:223 [inlined]\n",
      "  [3] require(into::Module, mod::Symbol)\n",
      "    @ Base ./loading.jl:1144\n",
      "  [4] eval\n",
      "    @ ./boot.jl:368 [inlined]\n",
      "  [5] include_string(mapexpr::typeof(REPL.softscope), mod::Module, code::String, filename::String)\n",
      "    @ Base ./loading.jl:1428\n",
      "  [6] #invokelatest#2\n",
      "    @ ./essentials.jl:729 [inlined]\n",
      "  [7] invokelatest\n",
      "    @ ./essentials.jl:726 [inlined]\n",
      "  [8] (::VSCodeServer.var\"#198#199\"{VSCodeServer.NotebookRunCellArguments, String})()\n",
      "    @ VSCodeServer ~/.vscode/extensions/julialang.language-julia-1.47.2/scripts/packages/VSCodeServer/src/serve_notebook.jl:19\n",
      "  [9] withpath(f::VSCodeServer.var\"#198#199\"{VSCodeServer.NotebookRunCellArguments, String}, path::String)\n",
      "    @ VSCodeServer ~/.vscode/extensions/julialang.language-julia-1.47.2/scripts/packages/VSCodeServer/src/repl.jl:249\n",
      " [10] notebook_runcell_request(conn::VSCodeServer.JSONRPC.JSONRPCEndpoint{Base.PipeEndpoint, Base.PipeEndpoint}, params::VSCodeServer.NotebookRunCellArguments)\n",
      "    @ VSCodeServer ~/.vscode/extensions/julialang.language-julia-1.47.2/scripts/packages/VSCodeServer/src/serve_notebook.jl:13\n",
      " [11] dispatch_msg(x::VSCodeServer.JSONRPC.JSONRPCEndpoint{Base.PipeEndpoint, Base.PipeEndpoint}, dispatcher::VSCodeServer.JSONRPC.MsgDispatcher, msg::Dict{String, Any})\n",
      "    @ VSCodeServer.JSONRPC ~/.vscode/extensions/julialang.language-julia-1.47.2/scripts/packages/JSONRPC/src/typed.jl:67\n",
      " [12] serve_notebook(pipename::String, outputchannel_logger::Base.CoreLogging.SimpleLogger; crashreporting_pipename::String)\n",
      "    @ VSCodeServer ~/.vscode/extensions/julialang.language-julia-1.47.2/scripts/packages/VSCodeServer/src/serve_notebook.jl:139\n",
      " [13] top-level scope\n",
      "    @ ~/.vscode/extensions/julialang.language-julia-1.47.2/scripts/notebook/notebook.jl:32"
     ]
    }
   ],
   "source": [
    "import numpy as np\n",
    "import matplotlib.pyplot as plt\n",
    "\n",
    "def predator_prey_simple_euler(x_0, y_0, a, b, d, c, t_end, delta_t):\n",
    "    x = [x_0]\n",
    "    y = [y_0]\n",
    "    t = np.arange(0, t_end, delta_t)\n",
    "\n",
    "    for _ in range(len(t)-1):\n",
    "        next_x = x[-1] + (a*x[-1] - b*x[-1]*y[-1])*delta_t #aktualne x + delta x\n",
    "        x.append(next_x)\n",
    "\n",
    "        next_y = y[-1] + (d*x[-1]*y[-1] - c*y[-1])*delta_t #aktualne y + delta y\n",
    "        y.append(next_y)\n",
    "\n",
    "    print(len(t))\n",
    "    print(len(x), len(y))\n",
    "    print(t)\n",
    "    #rysowanie wykresu\n",
    "    f, ax = plt.subplots(1)\n",
    "\n",
    "    fig1 = ax.plot(t, x, color=\"b\", label=\"prey\")\n",
    "    fig2 = ax.plot(t, y, color=\"r\", label=\"predator\")\n",
    "\n",
    "    ax.set_ylabel(\"count\")\n",
    "    ax.set_xlabel(\"time\")\n",
    "    ax.legend(handles=[fig1, fig2])\n",
    "    plt.show()\n",
    "\n",
    "predator_prey_simple_euler(20, 20, 1.1, 0.4, 0.4, 0.1, 50, 0.5)\n",
    "        \n"
   ]
  },
  {
   "attachments": {},
   "cell_type": "markdown",
   "metadata": {},
   "source": [
    "# Modyfikacje modelu podstawowego <a id=\"4\"></a>"
   ]
  },
  {
   "cell_type": "markdown",
   "metadata": {},
   "source": []
  },
  {
   "attachments": {},
   "cell_type": "markdown",
   "metadata": {},
   "source": [
    "# na jutro"
   ]
  },
  {
   "attachments": {},
   "cell_type": "markdown",
   "metadata": {},
   "source": [
    "# Analiza symulacji <a id=\"5\"></a>"
   ]
  },
  {
   "cell_type": "markdown",
   "metadata": {},
   "source": []
  },
  {
   "attachments": {},
   "cell_type": "markdown",
   "metadata": {},
   "source": [
    "# Wyniki i wnioski <a id=\"6\"></a>"
   ]
  },
  {
   "cell_type": "markdown",
   "metadata": {},
   "source": []
  },
  {
   "attachments": {},
   "cell_type": "markdown",
   "metadata": {},
   "source": [
    "# Zakończenie <a id=\"7\"></a>"
   ]
  },
  {
   "cell_type": "markdown",
   "metadata": {},
   "source": []
  }
 ],
 "metadata": {
  "kernelspec": {
   "display_name": "Julia 1.8.5",
   "language": "julia",
   "name": "julia-1.8"
  },
  "language_info": {
   "file_extension": ".jl",
   "mimetype": "application/julia",
   "name": "julia",
   "version": "1.8.5"
  }
 },
 "nbformat": 4,
 "nbformat_minor": 2
}
