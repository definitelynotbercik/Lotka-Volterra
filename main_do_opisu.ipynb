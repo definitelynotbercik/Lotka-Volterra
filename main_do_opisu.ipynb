{
 "cells": [
  {
   "attachments": {},
   "cell_type": "markdown",
   "metadata": {},
   "source": [
    "<h1><center>Równanie Lotki-Volterry do opisu zależności w ekosystemie. Model drapieżnik-ofiara</center></h1>"
   ]
  },
  {
   "attachments": {},
   "cell_type": "markdown",
   "metadata": {},
   "source": [
    "# Spis treści:\n",
    "### 1. [Wstęp](#1)\n",
    "### 2. [Model - część teoretyczna](#2)\n",
    "   * ##### [Historia modelu](#2_1)\n",
    "   * ##### [Opis modelu](#2_2)\n",
    "### 3. [Model w Pythonie - część praktyczna](#3)\n",
    "   * ##### [Rozwiązanie numeryczne za pomocą metody Eulera](#3_1)\n",
    "### 4. [Modyfikacje modelu podstawowego](#4)\n",
    "### 5. [Analiza symulacji](#5)\n",
    "### 6. [Wyniki i wnioski](#6)\n",
    "### 7. [Zakończenie](#7)\n",
    "\n"
   ]
  },
  {
   "attachments": {},
   "cell_type": "markdown",
   "metadata": {},
   "source": [
    "# Wstęp <a id=\"1\"></a>"
   ]
  },
  {
   "attachments": {},
   "cell_type": "markdown",
   "metadata": {},
   "source": [
    "#### ... bo czym byłaby udana podróż bez punktu startowego"
   ]
  },
  {
   "attachments": {},
   "cell_type": "markdown",
   "metadata": {},
   "source": [
    "##### Witamy w naszej podróży po *groźnie brzmiącym* świecie modelu drapieżnik-ofiara, czyli Lotki-Volterry. Postaramy się jednak, aby była ona raczej poszczerzeniem horyzontów, aniżeli drogą przez mękę. Zacznijmy od określenia punktu A wejścia i B wyjścia - motywacji i celów: \n",
    "\n",
    "### Motywacja:\n",
    "\n",
    "* czlowiek jako istota pełna antagonizmów poprzez poznanie skrajności może dojść do fundamentalnych konkluzji, a przez kulturę przewija się od zawsze motyw walki dobra ze złem, dlatego uznaliśmy, że jest to temat warty zgłębienia,\n",
    "\n",
    "* na 1 roku na projekcie z Pakietów matematycznych braliśmy pod lupę model rozwoju agresji w społeczeństwie z elementami teorii gier, dlatego uznaliśmy, że warto pociągnąć ten informatyczny temat w kontekście matematycznym,\n",
    "\n",
    "* w globalnym kontekście uważamy, że jest to realny problem który można przestudiować, co może podnieść naszą świadomość w sprawie utrzymania niektórych ekosystemów.\n",
    "\n",
    "### Cele:\n",
    "* zapoznanie się z modelem Lotki-Volterry i implementacja w wraunkach programistycznych, \n",
    "\n",
    "* „udziwnienie” modelu (poprzez jego „unormalnienie”), czyli wprowadzenie dodatkowych zmiennych upodabniających model do świata realnego,\n",
    "\n",
    "* przeprowadzenie symulacji oraz ich analiza,\n",
    "\n",
    "* wyciągnięcie wniosków oraz porównanie wyników z wynikami symulacji rozwoju agresji z wyżej wspomniangeo projektu,\n",
    "\n",
    "* zadanie dodatkowych pytań i próba odpowiedzi na nie (np. co byłoby kluczowe, aby taka symulacja odzwierciedlała w pełni rzeczywistość, co by nam dał eksperyment, tutaj jeszcze jedno krótkie pytanie itp.)\n",
    "\n",
    "##### Mapę po naszym projekcie można znaleźć na samej górze. A skoro już wiemy skąd wychodzimy i dokąd zmierzamy, to jako że droga jest w każdej podróży najważniejsza, właśnie do niej przejdźmy."
   ]
  },
  {
   "attachments": {},
   "cell_type": "markdown",
   "metadata": {},
   "source": [
    "# Model - część teoretyczna <a id=\"2\"></a>"
   ]
  },
  {
   "attachments": {},
   "cell_type": "markdown",
   "metadata": {},
   "source": [
    "#### ...czyli o dwóch takich, co wpadli na to samo"
   ]
  },
  {
   "attachments": {},
   "cell_type": "markdown",
   "metadata": {},
   "source": [
    "### Historia modelu <a id=\"2_1\"></a>"
   ]
  },
  {
   "attachments": {},
   "cell_type": "markdown",
   "metadata": {},
   "source": [
    "Zależności na linii drapieżnik-ofiara obserwuje się w przyrodzie od zawsze. Jest to konsekwencją przyjmowania różnych strategii na drodze do osiągnięcia zamierzonego celu. W interakcjach między orgzanizmami w ekosystemie tym celem jest najczęściej przeżycie. Takie zależności występowały między jednokomórkowcami, występowały między dinozaurami, występują do dnia dzisiejszego w świecie roślin i zwierząt. Tak głęboko zakorzeniony problem musiał być w końcu wzięty pod lupę. I został. Na początku XX wieku.\n",
    "\n",
    "W 1910 roku amerykański matematyk Alfred James Lotka publikuje teorię o autokatalitycznych reakcjach chemicznych. Sam Lotka, pasjonat chemii fizycznej, chce przenieść swoją wiedzę na obszar biologii i rozwinąć dziedzinę biologii fizycznej, gdyż obiema sferami rządzą analogiczne podstawowe prawa. Jego praca zostaje zauważona w latach 20., a matematykowi zostają umożliwione dalsze badania. W tych z 1925 roku dochodzi do modelu, w którym interakcja w środowisku między drapieżnikiem a ofiarą przyjmuje postać nietłumionej, ciągłęj oscylacji dwóch skrajnych gatunków.\n",
    "\n",
    "W tym samym roku włoski matematyk Vito Volterra, niezależnie od Alfreda Lotki, podejmuje się analizy problemu rybaków na Morzu Adriatyckim. Wyławianych jest więcej ryb drapieżnych w okresie po 1. wojnie światowej, choć pozornie wszystkie populacje ryb powinny ucierpieć w wyniku konfliktu. Jak wyjasniał później Volterra, było to spowodowane zaprzestaniem połowu w tym okresie, a w takim wypadku populacja drapieżników wróciła do „normy\". W 1926 roku opublikował pracę opierającą się na modelu populacyjnym, z podobną oscylacją opisaną przez Lotkę. \n",
    "\n",
    "Równania opisujące interakcje drapieżnik-ofiara zostały w późniejszym czasie nazwane **Modelem Lotki-Volterrego**, który stanowi podstawę dalszych badań w zakresie ekologii matematycznych populacji (*mathematical population ecology*) i jest kamieniem milowym w tej dziedzinie."
   ]
  },
  {
   "attachments": {},
   "cell_type": "markdown",
   "metadata": {},
   "source": [
    "### Opis modelu <a id=\"2_2\"></a>"
   ]
  },
  {
   "attachments": {},
   "cell_type": "markdown",
   "metadata": {},
   "source": [
    "# Model w Pythonie - część praktyczna <a id=\"3\"></a>"
   ]
  },
  {
   "attachments": {},
   "cell_type": "markdown",
   "metadata": {},
   "source": [
    "### Rozwiązanie numeryczne za pomocą metody Eulera <a id=\"3_1\"></a>"
   ]
  },
  {
   "attachments": {},
   "cell_type": "markdown",
   "metadata": {},
   "source": [
    "Aby rozwiązać nasze równanie numerycznie, zmieńmy nieco sposób, w jaki na nie patrzymy. \n",
    "\n",
    "\\begin{align}\n",
    "    \\frac{\\mathbb{d}x}{\\mathbb{d}t}&=a \\,x-b \\,xy &&&&& \\frac{\\Delta x}{\\Delta t}&=a \\,x-b \\,xy \\\\[2 em]\n",
    "     \\frac{\\mathbb{d}y}{\\mathbb{d}t} &=d \\,xy-c\\,y &&&&& \\frac{\\Delta y}{\\Delta t}&=d \\,xy-c\\,y\n",
    "\\end{align}\n",
    "\n",
    "Stosując taki zapis chcemy podkreślić, że aby rozwiązać układ numerycznie, będziemy wielokrotnie wyliczać jego wartości dla dyskretnych czasów.\n",
    "\n",
    "Następnie wymnażamy obie strony równania przez $\\Delta{t}$,\n",
    "\n",
    "\\begin{equation*}\n",
    "    \\begin{split}\n",
    "        \\Delta x&=(a \\,x-b \\,xy) \\Delta t \\\\[4pt]\n",
    "        \\Delta y&=(d \\,xy-c\\,y) \\Delta t \n",
    "    \\end{split}\n",
    "\\end{equation*}\n",
    "\n",
    "co pozwoli nam przystąpić do implementacji funkcji w Pythonie."
   ]
  },
  {
   "cell_type": "code",
   "execution_count": 1,
   "metadata": {},
   "outputs": [
    {
     "ename": "ArgumentError",
     "evalue": "ArgumentError: Package numpy not found in current path.\n- Run `import Pkg; Pkg.add(\"numpy\")` to install the numpy package.",
     "output_type": "error",
     "traceback": [
      "ArgumentError: Package numpy not found in current path.\n",
      "- Run `import Pkg; Pkg.add(\"numpy\")` to install the numpy package.\n",
      "\n",
      "Stacktrace:\n",
      "  [1] macro expansion\n",
      "    @ ./loading.jl:1163 [inlined]\n",
      "  [2] macro expansion\n",
      "    @ ./lock.jl:223 [inlined]\n",
      "  [3] require(into::Module, mod::Symbol)\n",
      "    @ Base ./loading.jl:1144\n",
      "  [4] eval\n",
      "    @ ./boot.jl:368 [inlined]\n",
      "  [5] include_string(mapexpr::typeof(REPL.softscope), mod::Module, code::String, filename::String)\n",
      "    @ Base ./loading.jl:1428\n",
      "  [6] #invokelatest#2\n",
      "    @ ./essentials.jl:729 [inlined]\n",
      "  [7] invokelatest\n",
      "    @ ./essentials.jl:726 [inlined]\n",
      "  [8] (::VSCodeServer.var\"#198#199\"{VSCodeServer.NotebookRunCellArguments, String})()\n",
      "    @ VSCodeServer ~/.vscode/extensions/julialang.language-julia-1.47.2/scripts/packages/VSCodeServer/src/serve_notebook.jl:19\n",
      "  [9] withpath(f::VSCodeServer.var\"#198#199\"{VSCodeServer.NotebookRunCellArguments, String}, path::String)\n",
      "    @ VSCodeServer ~/.vscode/extensions/julialang.language-julia-1.47.2/scripts/packages/VSCodeServer/src/repl.jl:249\n",
      " [10] notebook_runcell_request(conn::VSCodeServer.JSONRPC.JSONRPCEndpoint{Base.PipeEndpoint, Base.PipeEndpoint}, params::VSCodeServer.NotebookRunCellArguments)\n",
      "    @ VSCodeServer ~/.vscode/extensions/julialang.language-julia-1.47.2/scripts/packages/VSCodeServer/src/serve_notebook.jl:13\n",
      " [11] dispatch_msg(x::VSCodeServer.JSONRPC.JSONRPCEndpoint{Base.PipeEndpoint, Base.PipeEndpoint}, dispatcher::VSCodeServer.JSONRPC.MsgDispatcher, msg::Dict{String, Any})\n",
      "    @ VSCodeServer.JSONRPC ~/.vscode/extensions/julialang.language-julia-1.47.2/scripts/packages/JSONRPC/src/typed.jl:67\n",
      " [12] serve_notebook(pipename::String, outputchannel_logger::Base.CoreLogging.SimpleLogger; crashreporting_pipename::String)\n",
      "    @ VSCodeServer ~/.vscode/extensions/julialang.language-julia-1.47.2/scripts/packages/VSCodeServer/src/serve_notebook.jl:139\n",
      " [13] top-level scope\n",
      "    @ ~/.vscode/extensions/julialang.language-julia-1.47.2/scripts/notebook/notebook.jl:32"
     ]
    }
   ],
   "source": [
    "import numpy as np\n",
    "import matplotlib.pyplot as plt\n",
    "\n",
    "def predator_prey_simple_euler(x_0, y_0, a, b, d, c, t_end, delta_t):\n",
    "    x = [x_0]\n",
    "    y = [y_0]\n",
    "    t = np.arange(0, t_end, delta_t)\n",
    "\n",
    "    for _ in range(len(t)-1):\n",
    "        next_x = x[-1] + (a*x[-1] - b*x[-1]*y[-1])*delta_t #aktualne x + delta x\n",
    "        x.append(next_x)\n",
    "\n",
    "        next_y = y[-1] + (d*x[-1]*y[-1] - c*y[-1])*delta_t #aktualne y + delta y\n",
    "        y.append(next_y)\n",
    "\n",
    "    print(len(t))\n",
    "    print(len(x), len(y))\n",
    "    print(t)\n",
    "    #rysowanie wykresu\n",
    "    f, ax = plt.subplots(1)\n",
    "\n",
    "    fig1 = ax.plot(t, x, color=\"b\", label=\"prey\")\n",
    "    fig2 = ax.plot(t, y, color=\"r\", label=\"predator\")\n",
    "\n",
    "    ax.set_ylabel(\"count\")\n",
    "    ax.set_xlabel(\"time\")\n",
    "    ax.legend(handles=[fig1, fig2])\n",
    "    plt.show()\n",
    "\n",
    "predator_prey_simple_euler(20, 20, 1.1, 0.4, 0.4, 0.1, 50, 0.5)\n",
    "        \n"
   ]
  },
  {
   "attachments": {},
   "cell_type": "markdown",
   "metadata": {},
   "source": [
    "# Modyfikacje modelu podstawowego <a id=\"4\"></a>"
   ]
  },
  {
   "cell_type": "markdown",
   "metadata": {},
   "source": []
  },
  {
   "attachments": {},
   "cell_type": "markdown",
   "metadata": {},
   "source": [
    "# Analiza symulacji <a id=\"5\"></a>"
   ]
  },
  {
   "cell_type": "markdown",
   "metadata": {},
   "source": []
  },
  {
   "attachments": {},
   "cell_type": "markdown",
   "metadata": {},
   "source": [
    "# Wyniki i wnioski <a id=\"6\"></a>"
   ]
  },
  {
   "cell_type": "markdown",
   "metadata": {},
   "source": []
  },
  {
   "attachments": {},
   "cell_type": "markdown",
   "metadata": {},
   "source": [
    "# Zakończenie <a id=\"7\"></a>"
   ]
  },
  {
   "cell_type": "markdown",
   "metadata": {},
   "source": []
  }
 ],
 "metadata": {
  "kernelspec": {
   "display_name": "Julia 1.8.5",
   "language": "julia",
   "name": "julia-1.8"
  },
  "language_info": {
   "file_extension": ".jl",
   "mimetype": "application/julia",
   "name": "julia",
   "version": "1.8.5"
  }
 },
 "nbformat": 4,
 "nbformat_minor": 2
}
